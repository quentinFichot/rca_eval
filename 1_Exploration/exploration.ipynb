{
 "cells": [
  {
   "cell_type": "markdown",
   "metadata": {
    "slideshow": {
     "slide_type": "slide"
    }
   },
   "source": [
    "# Exploration"
   ]
  },
  {
   "cell_type": "markdown",
   "metadata": {
    "slideshow": {
     "slide_type": "fragment"
    }
   },
   "source": [
    "## Objectif\n",
    "L'objectif est de permettre le suivi régulier des délais de règlement des factures :\n",
    "- au niveau Entreprise, les factures émises par l'entreprise\n",
    "- au niveau Expert Comptable, les factures émises par les entreprises suivies par le cabinet\n",
    "- au niveau RCA, dégager des tendances"
   ]
  },
  {
   "cell_type": "markdown",
   "metadata": {
    "slideshow": {
     "slide_type": "subslide"
    }
   },
   "source": [
    "![image](../img/schema.png)"
   ]
  },
  {
   "cell_type": "markdown",
   "metadata": {
    "slideshow": {
     "slide_type": "slide"
    }
   },
   "source": [
    "*Centralise ici les imports python dont tu as besoin :*"
   ]
  },
  {
   "cell_type": "code",
   "execution_count": 258,
   "metadata": {
    "pycharm": {
     "name": "#%%\n"
    }
   },
   "outputs": [],
   "source": [
    "import pandas as pd\n",
    "import numpy as np\n",
    "from validate_email import validate_email\n",
    "import re"
   ]
  },
  {
   "cell_type": "markdown",
   "metadata": {
    "slideshow": {
     "slide_type": "slide"
    }
   },
   "source": [
    "# 1. Datasets : chargement et vérification"
   ]
  },
  {
   "cell_type": "markdown",
   "metadata": {
    "slideshow": {
     "slide_type": "subslide"
    }
   },
   "source": [
    "## 1.1 Dataset Accountant"
   ]
  },
  {
   "cell_type": "markdown",
   "metadata": {
    "slideshow": {
     "slide_type": "subslide"
    }
   },
   "source": [
    "### Charge un dataframe nommé `accountant_df` avec les données du fichier `data/Accountant.xlsx`"
   ]
  },
  {
   "cell_type": "code",
   "execution_count": 259,
   "metadata": {
    "pycharm": {
     "name": "#%%\n"
    },
    "slideshow": {
     "slide_type": "fragment"
    }
   },
   "outputs": [],
   "source": [
    "accountant_df = pd.read_excel(r\"../data/Accountant.xlsx\", dtype={\"id\":  np.int32})"
   ]
  },
  {
   "cell_type": "markdown",
   "metadata": {
    "slideshow": {
     "slide_type": "subslide"
    }
   },
   "source": [
    "### Affiche les informations pertinentes ou applique les vérifications nécessaires selon toi sur le dataframe `accountant_df`"
   ]
  },
  {
   "cell_type": "code",
   "execution_count": 260,
   "metadata": {
    "pycharm": {
     "name": "#%%\n"
    }
   },
   "outputs": [
    {
     "data": {
      "text/html": [
       "<div>\n",
       "<style scoped>\n",
       "    .dataframe tbody tr th:only-of-type {\n",
       "        vertical-align: middle;\n",
       "    }\n",
       "\n",
       "    .dataframe tbody tr th {\n",
       "        vertical-align: top;\n",
       "    }\n",
       "\n",
       "    .dataframe thead th {\n",
       "        text-align: right;\n",
       "    }\n",
       "</style>\n",
       "<table border=\"1\" class=\"dataframe\">\n",
       "  <thead>\n",
       "    <tr style=\"text-align: right;\">\n",
       "      <th></th>\n",
       "      <th>id</th>\n",
       "      <th>email</th>\n",
       "      <th>accountant_name</th>\n",
       "    </tr>\n",
       "  </thead>\n",
       "  <tbody>\n",
       "    <tr>\n",
       "      <th>0</th>\n",
       "      <td>1</td>\n",
       "      <td>nborrington0@hubpages.com</td>\n",
       "      <td>Nada Borrington</td>\n",
       "    </tr>\n",
       "    <tr>\n",
       "      <th>1</th>\n",
       "      <td>2</td>\n",
       "      <td>ahendrik1@yolasite.com</td>\n",
       "      <td>Anetta Hendrik</td>\n",
       "    </tr>\n",
       "    <tr>\n",
       "      <th>2</th>\n",
       "      <td>3</td>\n",
       "      <td>cstiller2@ca.gov</td>\n",
       "      <td>Catarina Stiller</td>\n",
       "    </tr>\n",
       "    <tr>\n",
       "      <th>3</th>\n",
       "      <td>4</td>\n",
       "      <td>fevered3@indiatimes.com</td>\n",
       "      <td>Freedman Evered</td>\n",
       "    </tr>\n",
       "    <tr>\n",
       "      <th>4</th>\n",
       "      <td>5</td>\n",
       "      <td>gwatts4@printfriendly.com</td>\n",
       "      <td>Giuseppe Watts</td>\n",
       "    </tr>\n",
       "    <tr>\n",
       "      <th>5</th>\n",
       "      <td>6</td>\n",
       "      <td>hborrie5@nydailynews.com</td>\n",
       "      <td>Hannah Borrie</td>\n",
       "    </tr>\n",
       "    <tr>\n",
       "      <th>6</th>\n",
       "      <td>7</td>\n",
       "      <td>imacintyre6@tinyurl.com</td>\n",
       "      <td>Ingeberg MacIntyre</td>\n",
       "    </tr>\n",
       "    <tr>\n",
       "      <th>7</th>\n",
       "      <td>8</td>\n",
       "      <td>eilyukhov7@simplemachines.org</td>\n",
       "      <td>Emelen Ilyukhov</td>\n",
       "    </tr>\n",
       "    <tr>\n",
       "      <th>8</th>\n",
       "      <td>9</td>\n",
       "      <td>glevens8@microsoft.com</td>\n",
       "      <td>Gerhardt Levens</td>\n",
       "    </tr>\n",
       "    <tr>\n",
       "      <th>9</th>\n",
       "      <td>10</td>\n",
       "      <td>kligoe9@topsy.com</td>\n",
       "      <td>Kenneth Ligoe</td>\n",
       "    </tr>\n",
       "  </tbody>\n",
       "</table>\n",
       "</div>"
      ],
      "text/plain": [
       "   id                          email     accountant_name\n",
       "0   1      nborrington0@hubpages.com     Nada Borrington\n",
       "1   2         ahendrik1@yolasite.com      Anetta Hendrik\n",
       "2   3               cstiller2@ca.gov    Catarina Stiller\n",
       "3   4        fevered3@indiatimes.com     Freedman Evered\n",
       "4   5      gwatts4@printfriendly.com      Giuseppe Watts\n",
       "5   6       hborrie5@nydailynews.com       Hannah Borrie\n",
       "6   7        imacintyre6@tinyurl.com  Ingeberg MacIntyre\n",
       "7   8  eilyukhov7@simplemachines.org     Emelen Ilyukhov\n",
       "8   9         glevens8@microsoft.com     Gerhardt Levens\n",
       "9  10              kligoe9@topsy.com       Kenneth Ligoe"
      ]
     },
     "execution_count": 260,
     "metadata": {},
     "output_type": "execute_result"
    }
   ],
   "source": [
    "# on vérifie que le nom et le prénom ne contiennent pas de chiffre\n",
    "accountant_df = accountant_df[accountant_df['first_name'].apply(\n",
    "    lambda x: bool(re.search(r\"^[a-zA-Z '-]*$\", str(x))))]\n",
    "accountant_df = accountant_df[accountant_df['last_name'].apply(\n",
    "    lambda x: bool(re.search(r\"^[a-zA-Z '-]*$\", str(x))))]\n",
    "\n",
    "#  on vérifie la validité de l'email\n",
    "accountant_df = accountant_df[accountant_df['email'].apply(validate_email)]\n",
    "\n",
    "accountant_df[\"accountant_name\"] = accountant_df[\"first_name\"] + \" \" +  accountant_df[\"last_name\"]\n",
    "accountant_df = accountant_df.drop([\"first_name\", \"last_name\"], axis=1)\n",
    "\n",
    "accountant_df"
   ]
  },
  {
   "cell_type": "markdown",
   "metadata": {
    "pycharm": {
     "name": "#%% md\n"
    }
   },
   "source": [
    "## 1.2 Dataset Company"
   ]
  },
  {
   "cell_type": "markdown",
   "metadata": {},
   "source": [
    "### Charge un dataframe nommé `company_df` avec les données du fichier `data/Company.xlsx`"
   ]
  },
  {
   "cell_type": "code",
   "execution_count": 261,
   "metadata": {
    "pycharm": {
     "name": "#%%\n"
    }
   },
   "outputs": [],
   "source": [
    "company_df = pd.read_excel(r\"../data/Company.xlsx\", dtype={\"id\": np.int32, \"company_accountant\": np.int32})\n"
   ]
  },
  {
   "cell_type": "markdown",
   "metadata": {},
   "source": [
    "### Affiche les informations pertinentes ou applique les vérifications nécessaires selon toi sur le dataframe `company_df`"
   ]
  },
  {
   "cell_type": "code",
   "execution_count": 262,
   "metadata": {
    "pycharm": {
     "name": "#%%\n"
    }
   },
   "outputs": [
    {
     "data": {
      "text/html": [
       "<div>\n",
       "<style scoped>\n",
       "    .dataframe tbody tr th:only-of-type {\n",
       "        vertical-align: middle;\n",
       "    }\n",
       "\n",
       "    .dataframe tbody tr th {\n",
       "        vertical-align: top;\n",
       "    }\n",
       "\n",
       "    .dataframe thead th {\n",
       "        text-align: right;\n",
       "    }\n",
       "</style>\n",
       "<table border=\"1\" class=\"dataframe\">\n",
       "  <thead>\n",
       "    <tr style=\"text-align: right;\">\n",
       "      <th></th>\n",
       "      <th>id</th>\n",
       "      <th>company_name</th>\n",
       "      <th>company_accountant</th>\n",
       "    </tr>\n",
       "  </thead>\n",
       "  <tbody>\n",
       "    <tr>\n",
       "      <th>0</th>\n",
       "      <td>1</td>\n",
       "      <td>Larson, Hilpert and Hegmann</td>\n",
       "      <td>3</td>\n",
       "    </tr>\n",
       "    <tr>\n",
       "      <th>1</th>\n",
       "      <td>2</td>\n",
       "      <td>Davis-Brekke</td>\n",
       "      <td>5</td>\n",
       "    </tr>\n",
       "    <tr>\n",
       "      <th>2</th>\n",
       "      <td>3</td>\n",
       "      <td>Hirthe, Lesch and Schroeder</td>\n",
       "      <td>5</td>\n",
       "    </tr>\n",
       "    <tr>\n",
       "      <th>3</th>\n",
       "      <td>4</td>\n",
       "      <td>Prosacco, Brakus and Bayer</td>\n",
       "      <td>2</td>\n",
       "    </tr>\n",
       "    <tr>\n",
       "      <th>4</th>\n",
       "      <td>5</td>\n",
       "      <td>Rippin and Sons</td>\n",
       "      <td>6</td>\n",
       "    </tr>\n",
       "    <tr>\n",
       "      <th>5</th>\n",
       "      <td>6</td>\n",
       "      <td>Collins-Mitchell</td>\n",
       "      <td>7</td>\n",
       "    </tr>\n",
       "    <tr>\n",
       "      <th>6</th>\n",
       "      <td>7</td>\n",
       "      <td>Wolf-Bartell</td>\n",
       "      <td>4</td>\n",
       "    </tr>\n",
       "    <tr>\n",
       "      <th>7</th>\n",
       "      <td>8</td>\n",
       "      <td>Auer-Robel</td>\n",
       "      <td>1</td>\n",
       "    </tr>\n",
       "    <tr>\n",
       "      <th>8</th>\n",
       "      <td>9</td>\n",
       "      <td>DuBuque and Sons</td>\n",
       "      <td>10</td>\n",
       "    </tr>\n",
       "    <tr>\n",
       "      <th>9</th>\n",
       "      <td>10</td>\n",
       "      <td>Botsford-Boyle</td>\n",
       "      <td>9</td>\n",
       "    </tr>\n",
       "    <tr>\n",
       "      <th>10</th>\n",
       "      <td>11</td>\n",
       "      <td>McCullough-Schiller</td>\n",
       "      <td>7</td>\n",
       "    </tr>\n",
       "    <tr>\n",
       "      <th>11</th>\n",
       "      <td>12</td>\n",
       "      <td>Reichel-Gutkowski</td>\n",
       "      <td>3</td>\n",
       "    </tr>\n",
       "    <tr>\n",
       "      <th>12</th>\n",
       "      <td>13</td>\n",
       "      <td>O'Reilly Inc</td>\n",
       "      <td>6</td>\n",
       "    </tr>\n",
       "    <tr>\n",
       "      <th>13</th>\n",
       "      <td>14</td>\n",
       "      <td>Dibbert, Krajcik and Labadie</td>\n",
       "      <td>4</td>\n",
       "    </tr>\n",
       "    <tr>\n",
       "      <th>14</th>\n",
       "      <td>15</td>\n",
       "      <td>Beahan-Mosciski</td>\n",
       "      <td>4</td>\n",
       "    </tr>\n",
       "  </tbody>\n",
       "</table>\n",
       "</div>"
      ],
      "text/plain": [
       "    id                  company_name  company_accountant\n",
       "0    1   Larson, Hilpert and Hegmann                   3\n",
       "1    2                  Davis-Brekke                   5\n",
       "2    3   Hirthe, Lesch and Schroeder                   5\n",
       "3    4    Prosacco, Brakus and Bayer                   2\n",
       "4    5               Rippin and Sons                   6\n",
       "5    6              Collins-Mitchell                   7\n",
       "6    7                  Wolf-Bartell                   4\n",
       "7    8                    Auer-Robel                   1\n",
       "8    9              DuBuque and Sons                  10\n",
       "9   10                Botsford-Boyle                   9\n",
       "10  11           McCullough-Schiller                   7\n",
       "11  12             Reichel-Gutkowski                   3\n",
       "12  13                  O'Reilly Inc                   6\n",
       "13  14  Dibbert, Krajcik and Labadie                   4\n",
       "14  15               Beahan-Mosciski                   4"
      ]
     },
     "execution_count": 262,
     "metadata": {},
     "output_type": "execute_result"
    }
   ],
   "source": [
    "# une premiere vérification pertinente serait de verifier que les valeurs de la colonne\n",
    "# company_area appartiennent a une liste de valeure définie. Cela permettrait d'eviter les doublons\n",
    "# comme par example \"Real Estate\" vs \"real_estate\" etc\n",
    "# Normalement l'utilisateur aurait probablement a choisir une valeure via une combo box pour eviter \n",
    "# ce genre de probleme\n",
    "lpossible_area = [\n",
    "    \"Computer Software: Prepackaged Software\",\n",
    "    \"Environmental Services\",\n",
    "    \"Major Banks\",\n",
    "    \"Major Chemicals\",\n",
    "    \"Major Pharmaceuticals\",\n",
    "    \"Real Estate\",\n",
    "    \"Semiconductors\", \n",
    "    \"Telecommunications Equipment\",\n",
    "    np.nan,\n",
    "    ]\n",
    "company_df = company_df[company_df['company_area'].apply(lambda x: x in lpossible_area)]\n",
    "\n",
    "# pour notre problématique les colonnes company_address et company_city ne semblent pas pertinente et \n",
    "# peuvent etre retirée\n",
    "company_df = company_df.drop([\"company_address\", \"company_city\", \"company_area\"], axis=1)\n",
    "\n",
    "company_df"
   ]
  },
  {
   "cell_type": "markdown",
   "metadata": {
    "slideshow": {
     "slide_type": "subslide"
    }
   },
   "source": [
    "## 1.3 Dataset Customer"
   ]
  },
  {
   "cell_type": "markdown",
   "metadata": {
    "pycharm": {
     "name": "#%% md\n"
    }
   },
   "source": [
    "### Charge un dataframe nommé `customer_df` avec les données du fichier `data/Customer.xlsx`"
   ]
  },
  {
   "cell_type": "code",
   "execution_count": 263,
   "metadata": {
    "pycharm": {
     "name": "#%%\n"
    }
   },
   "outputs": [],
   "source": [
    "customer_df = pd.read_excel(r\"../data/Customer.xlsx\", dtype={\"id\":  np.int32})"
   ]
  },
  {
   "cell_type": "markdown",
   "metadata": {},
   "source": [
    "### Affiche les informations pertinentes ou applique les vérifications nécessaires selon toi sur le dataframe `customer_df`"
   ]
  },
  {
   "cell_type": "code",
   "execution_count": 264,
   "metadata": {
    "pycharm": {
     "name": "#%%\n"
    }
   },
   "outputs": [
    {
     "data": {
      "text/html": [
       "<div>\n",
       "<style scoped>\n",
       "    .dataframe tbody tr th:only-of-type {\n",
       "        vertical-align: middle;\n",
       "    }\n",
       "\n",
       "    .dataframe tbody tr th {\n",
       "        vertical-align: top;\n",
       "    }\n",
       "\n",
       "    .dataframe thead th {\n",
       "        text-align: right;\n",
       "    }\n",
       "</style>\n",
       "<table border=\"1\" class=\"dataframe\">\n",
       "  <thead>\n",
       "    <tr style=\"text-align: right;\">\n",
       "      <th></th>\n",
       "      <th>id</th>\n",
       "      <th>customer_name</th>\n",
       "    </tr>\n",
       "  </thead>\n",
       "  <tbody>\n",
       "    <tr>\n",
       "      <th>0</th>\n",
       "      <td>1</td>\n",
       "      <td>Elyssa Masarrat</td>\n",
       "    </tr>\n",
       "    <tr>\n",
       "      <th>1</th>\n",
       "      <td>2</td>\n",
       "      <td>Leone MacFadin</td>\n",
       "    </tr>\n",
       "    <tr>\n",
       "      <th>2</th>\n",
       "      <td>3</td>\n",
       "      <td>Gerda Norton</td>\n",
       "    </tr>\n",
       "    <tr>\n",
       "      <th>3</th>\n",
       "      <td>4</td>\n",
       "      <td>Myrna Mulhall</td>\n",
       "    </tr>\n",
       "    <tr>\n",
       "      <th>4</th>\n",
       "      <td>5</td>\n",
       "      <td>Greta Cone</td>\n",
       "    </tr>\n",
       "    <tr>\n",
       "      <th>...</th>\n",
       "      <td>...</td>\n",
       "      <td>...</td>\n",
       "    </tr>\n",
       "    <tr>\n",
       "      <th>65</th>\n",
       "      <td>66</td>\n",
       "      <td>Ava Getty</td>\n",
       "    </tr>\n",
       "    <tr>\n",
       "      <th>66</th>\n",
       "      <td>67</td>\n",
       "      <td>Avrom McColl</td>\n",
       "    </tr>\n",
       "    <tr>\n",
       "      <th>67</th>\n",
       "      <td>68</td>\n",
       "      <td>Margery Oswick</td>\n",
       "    </tr>\n",
       "    <tr>\n",
       "      <th>68</th>\n",
       "      <td>69</td>\n",
       "      <td>Wain Tidbald</td>\n",
       "    </tr>\n",
       "    <tr>\n",
       "      <th>69</th>\n",
       "      <td>70</td>\n",
       "      <td>Annadiana Lugton</td>\n",
       "    </tr>\n",
       "  </tbody>\n",
       "</table>\n",
       "<p>70 rows × 2 columns</p>\n",
       "</div>"
      ],
      "text/plain": [
       "    id     customer_name\n",
       "0    1   Elyssa Masarrat\n",
       "1    2    Leone MacFadin\n",
       "2    3      Gerda Norton\n",
       "3    4     Myrna Mulhall\n",
       "4    5        Greta Cone\n",
       "..  ..               ...\n",
       "65  66         Ava Getty\n",
       "66  67      Avrom McColl\n",
       "67  68    Margery Oswick\n",
       "68  69      Wain Tidbald\n",
       "69  70  Annadiana Lugton\n",
       "\n",
       "[70 rows x 2 columns]"
      ]
     },
     "execution_count": 264,
     "metadata": {},
     "output_type": "execute_result"
    }
   ],
   "source": [
    "# Les memes vérifications peuvent s'appliquer ici sur le nom (pas de chiffre), sur l'adresse\n",
    "# (chiffres + lettres) ou sur la ville (que des lettres)\n",
    "customer_df = customer_df[customer_df['customer_name'].apply(\n",
    "    lambda x: bool(re.search(r\"^[a-zA-Z '-]*$\", str(x))))]\n",
    "\n",
    "# pour notre problématique les colonnes customer_address et customer_city ne semblent pas pertinente et \n",
    "# peuvent etre retirée\n",
    "customer_df = customer_df.drop([\"customer_address\", \"customer_city\"], axis=1)\n",
    "\n",
    "customer_df\n"
   ]
  },
  {
   "cell_type": "markdown",
   "metadata": {},
   "source": [
    "## 1.4 Dataset Invoice"
   ]
  },
  {
   "cell_type": "markdown",
   "metadata": {},
   "source": [
    "### Charge un dataframe nommé `invoice_df` avec les données du fichier `data/Invoice.xlsx`"
   ]
  },
  {
   "cell_type": "code",
   "execution_count": 273,
   "metadata": {
    "pycharm": {
     "name": "#%%\n"
    }
   },
   "outputs": [],
   "source": [
    "invoice_df = pd.read_excel(r\"../data/Invoice.xlsx\", \n",
    "                           dtype={\"id\": np.int32, \"invoice_company\": np.int32, \"invoice_customer\": np.int32})"
   ]
  },
  {
   "cell_type": "markdown",
   "metadata": {},
   "source": [
    "### Affiche les informations pertinentes ou applique les vérifications nécessaires selon toi sur le dataframe `invoice_df`"
   ]
  },
  {
   "cell_type": "code",
   "execution_count": 274,
   "metadata": {
    "pycharm": {
     "name": "#%%\n"
    }
   },
   "outputs": [
    {
     "name": "stdout",
     "output_type": "stream",
     "text": [
      "<class 'pandas.core.frame.DataFrame'>\n",
      "Int64Index: 689 entries, 0 to 998\n",
      "Data columns (total 5 columns):\n",
      " #   Column                 Non-Null Count  Dtype         \n",
      "---  ------                 --------------  -----         \n",
      " 0   id                     689 non-null    int32         \n",
      " 1   invoice_creation_date  689 non-null    datetime64[ns]\n",
      " 2   invoice_payment_date   689 non-null    datetime64[ns]\n",
      " 3   invoice_company        689 non-null    int32         \n",
      " 4   invoice_customer       689 non-null    int32         \n",
      "dtypes: datetime64[ns](2), int32(3)\n",
      "memory usage: 24.2 KB\n"
     ]
    }
   ],
   "source": [
    "# on peut vérifier que les sommes demandés sont corrects, cad un float positif\n",
    "invoice_df = invoice_df[invoice_df['invoice_amount'].apply(lambda x: x > 0)]\n",
    "invoice_df = invoice_df[invoice_df['invoice_payment_date'].notnull()]\n",
    "\n",
    "invoice_df = invoice_df.drop([\"invoice_amount\", \"invoice_currency\"], axis=1)\n",
    "\n",
    "invoice_df"
   ]
  },
  {
   "cell_type": "markdown",
   "metadata": {
    "slideshow": {
     "slide_type": "slide"
    }
   },
   "source": [
    "# 2. Fusion des datasets"
   ]
  },
  {
   "cell_type": "markdown",
   "metadata": {
    "pycharm": {
     "name": "#%% md\n"
    }
   },
   "source": [
    "### Crée un dataframe nommé `dataset_df` à partir des datasets préalablement chargés"
   ]
  },
  {
   "cell_type": "code",
   "execution_count": 275,
   "metadata": {
    "pycharm": {
     "name": "#%%\n"
    },
    "slideshow": {
     "slide_type": "fragment"
    }
   },
   "outputs": [
    {
     "name": "stdout",
     "output_type": "stream",
     "text": [
      "<class 'pandas.core.frame.DataFrame'>\n",
      "Int64Index: 689 entries, 0 to 688\n",
      "Data columns (total 6 columns):\n",
      " #   Column                 Non-Null Count  Dtype         \n",
      "---  ------                 --------------  -----         \n",
      " 0   company_name           689 non-null    object        \n",
      " 1   email                  689 non-null    object        \n",
      " 2   accountant_name        689 non-null    object        \n",
      " 3   invoice_creation_date  689 non-null    datetime64[ns]\n",
      " 4   invoice_payment_date   689 non-null    datetime64[ns]\n",
      " 5   customer_name          689 non-null    object        \n",
      "dtypes: datetime64[ns](2), object(4)\n",
      "memory usage: 37.7+ KB\n"
     ]
    }
   ],
   "source": [
    "# merge table comptable et company\n",
    "merge1_df = pd.merge(company_df, accountant_df, left_on=\"company_accountant\", right_on=\"id\").drop(\n",
    "    [\"company_accountant\", \"id_y\"], axis=1)\n",
    "\n",
    "# merge table invoice et cutomer \n",
    "merge2_df = pd.merge(invoice_df, customer_df, left_on=\"invoice_customer\", right_on=\"id\").drop(\n",
    "    [\"invoice_customer\", \"id_y\", \"id_x\"], axis=1)\n",
    "\n",
    "dataset_df = pd.merge(merge1_df, merge2_df, left_on=\"id_x\", right_on=\"invoice_company\").drop(\n",
    "    [\"invoice_company\", \"id_x\"], axis=1)\n",
    "\n",
    "dataset_df.info()\n"
   ]
  },
  {
   "cell_type": "markdown",
   "metadata": {
    "pycharm": {
     "name": "#%% md\n"
    }
   },
   "source": [
    "### Sauvegarde le dataframe `dataset_df` au format au chemin suivant `data/dataset.csv`"
   ]
  },
  {
   "cell_type": "code",
   "execution_count": 268,
   "metadata": {
    "pycharm": {
     "name": "#%%\n"
    }
   },
   "outputs": [],
   "source": [
    "dataset_df.to_csv(r\"../data/dataset.csv\", index=False)"
   ]
  },
  {
   "cell_type": "markdown",
   "metadata": {
    "pycharm": {
     "name": "#%% md\n"
    }
   },
   "source": [
    "# 3. Enregistre ton notebook !\n"
   ]
  }
 ],
 "metadata": {
  "celltoolbar": "Diaporama",
  "kernelspec": {
   "display_name": "Python 3 (ipykernel)",
   "language": "python",
   "name": "python3"
  },
  "language_info": {
   "codemirror_mode": {
    "name": "ipython",
    "version": 3
   },
   "file_extension": ".py",
   "mimetype": "text/x-python",
   "name": "python",
   "nbconvert_exporter": "python",
   "pygments_lexer": "ipython3",
   "version": "3.10.0"
  },
  "toc": {
   "base_numbering": 1,
   "nav_menu": {
    "height": "374px",
    "width": "242px"
   },
   "number_sections": false,
   "sideBar": true,
   "skip_h1_title": false,
   "title_cell": "Table of Contents",
   "title_sidebar": "Contents",
   "toc_cell": false,
   "toc_position": {},
   "toc_section_display": true,
   "toc_window_display": true
  }
 },
 "nbformat": 4,
 "nbformat_minor": 1
}
