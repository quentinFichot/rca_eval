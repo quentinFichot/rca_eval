{
 "cells": [
  {
   "cell_type": "markdown",
   "metadata": {
    "pycharm": {
     "name": "#%% md\n"
    }
   },
   "source": [
    "# Analyse"
   ]
  },
  {
   "cell_type": "markdown",
   "metadata": {
    "slideshow": {
     "slide_type": "fragment"
    }
   },
   "source": [
    "## Objectif\n",
    "L'objectif est de permettre le suivi régulier des délais de règlement des factures :\n",
    "- au niveau Entreprise, les factures émises par l'entreprise\n",
    "- au niveau Expert Comptable, les factures émises par les entreprises suivies par le cabinet\n",
    "- au niveau RCA, dégager des tendances"
   ]
  },
  {
   "cell_type": "markdown",
   "metadata": {
    "slideshow": {
     "slide_type": "subslide"
    }
   },
   "source": [
    "![image](../img/schema.png)"
   ]
  },
  {
   "cell_type": "markdown",
   "metadata": {
    "slideshow": {
     "slide_type": "slide"
    }
   },
   "source": [
    "*Centralise ici les imports python dont tu as besoin :*"
   ]
  },
  {
   "cell_type": "code",
   "execution_count": 1,
   "metadata": {
    "pycharm": {
     "name": "#%%\n"
    },
    "slideshow": {
     "slide_type": "fragment"
    }
   },
   "outputs": [],
   "source": [
    "import pandas as pd\n",
    "import numpy as np\n",
    "import matplotlib\n",
    "from matplotlib import pyplot as plt\n",
    "import seaborn as sns"
   ]
  },
  {
   "cell_type": "markdown",
   "metadata": {
    "slideshow": {
     "slide_type": "slide"
    }
   },
   "source": [
    "# 1. Datasets : chargement"
   ]
  },
  {
   "cell_type": "markdown",
   "metadata": {
    "slideshow": {
     "slide_type": "subslide"
    }
   },
   "source": [
    "## Charge un dataframe nommé `dataset_df` avec les données du fichier `data/dataset.csv` créé lors de l'exercice précédent"
   ]
  },
  {
   "cell_type": "code",
   "execution_count": 2,
   "metadata": {
    "pycharm": {
     "name": "#%%\n"
    }
   },
   "outputs": [
    {
     "data": {
      "text/html": [
       "<div>\n",
       "<style scoped>\n",
       "    .dataframe tbody tr th:only-of-type {\n",
       "        vertical-align: middle;\n",
       "    }\n",
       "\n",
       "    .dataframe tbody tr th {\n",
       "        vertical-align: top;\n",
       "    }\n",
       "\n",
       "    .dataframe thead th {\n",
       "        text-align: right;\n",
       "    }\n",
       "</style>\n",
       "<table border=\"1\" class=\"dataframe\">\n",
       "  <thead>\n",
       "    <tr style=\"text-align: right;\">\n",
       "      <th></th>\n",
       "      <th>company_name</th>\n",
       "      <th>email</th>\n",
       "      <th>accountant_name</th>\n",
       "      <th>invoice_creation_date</th>\n",
       "      <th>invoice_payment_date</th>\n",
       "      <th>customer_name</th>\n",
       "    </tr>\n",
       "  </thead>\n",
       "  <tbody>\n",
       "    <tr>\n",
       "      <th>0</th>\n",
       "      <td>Larson, Hilpert and Hegmann</td>\n",
       "      <td>cstiller2@ca.gov</td>\n",
       "      <td>Catarina Stiller</td>\n",
       "      <td>2020-09-15</td>\n",
       "      <td>2020-12-02</td>\n",
       "      <td>Corette Charon</td>\n",
       "    </tr>\n",
       "    <tr>\n",
       "      <th>1</th>\n",
       "      <td>Larson, Hilpert and Hegmann</td>\n",
       "      <td>cstiller2@ca.gov</td>\n",
       "      <td>Catarina Stiller</td>\n",
       "      <td>2020-07-05</td>\n",
       "      <td>2020-07-24</td>\n",
       "      <td>Ernesto Assinder</td>\n",
       "    </tr>\n",
       "    <tr>\n",
       "      <th>2</th>\n",
       "      <td>Larson, Hilpert and Hegmann</td>\n",
       "      <td>cstiller2@ca.gov</td>\n",
       "      <td>Catarina Stiller</td>\n",
       "      <td>2020-08-01</td>\n",
       "      <td>2020-09-15</td>\n",
       "      <td>Ardith Bavester</td>\n",
       "    </tr>\n",
       "    <tr>\n",
       "      <th>3</th>\n",
       "      <td>Larson, Hilpert and Hegmann</td>\n",
       "      <td>cstiller2@ca.gov</td>\n",
       "      <td>Catarina Stiller</td>\n",
       "      <td>2020-11-26</td>\n",
       "      <td>2020-11-05</td>\n",
       "      <td>Neila Scates</td>\n",
       "    </tr>\n",
       "    <tr>\n",
       "      <th>4</th>\n",
       "      <td>Larson, Hilpert and Hegmann</td>\n",
       "      <td>cstiller2@ca.gov</td>\n",
       "      <td>Catarina Stiller</td>\n",
       "      <td>2020-07-30</td>\n",
       "      <td>2020-10-24</td>\n",
       "      <td>Neila Scates</td>\n",
       "    </tr>\n",
       "    <tr>\n",
       "      <th>...</th>\n",
       "      <td>...</td>\n",
       "      <td>...</td>\n",
       "      <td>...</td>\n",
       "      <td>...</td>\n",
       "      <td>...</td>\n",
       "      <td>...</td>\n",
       "    </tr>\n",
       "    <tr>\n",
       "      <th>684</th>\n",
       "      <td>Botsford-Boyle</td>\n",
       "      <td>glevens8@microsoft.com</td>\n",
       "      <td>Gerhardt Levens</td>\n",
       "      <td>2020-07-12</td>\n",
       "      <td>2020-07-20</td>\n",
       "      <td>Jan Stocker</td>\n",
       "    </tr>\n",
       "    <tr>\n",
       "      <th>685</th>\n",
       "      <td>Botsford-Boyle</td>\n",
       "      <td>glevens8@microsoft.com</td>\n",
       "      <td>Gerhardt Levens</td>\n",
       "      <td>2020-07-11</td>\n",
       "      <td>2020-08-22</td>\n",
       "      <td>Elyssa Masarrat</td>\n",
       "    </tr>\n",
       "    <tr>\n",
       "      <th>686</th>\n",
       "      <td>Botsford-Boyle</td>\n",
       "      <td>glevens8@microsoft.com</td>\n",
       "      <td>Gerhardt Levens</td>\n",
       "      <td>2020-10-09</td>\n",
       "      <td>2020-12-04</td>\n",
       "      <td>Whit Shadrack</td>\n",
       "    </tr>\n",
       "    <tr>\n",
       "      <th>687</th>\n",
       "      <td>Botsford-Boyle</td>\n",
       "      <td>glevens8@microsoft.com</td>\n",
       "      <td>Gerhardt Levens</td>\n",
       "      <td>2020-10-31</td>\n",
       "      <td>2020-12-04</td>\n",
       "      <td>Rudolfo Jowers</td>\n",
       "    </tr>\n",
       "    <tr>\n",
       "      <th>688</th>\n",
       "      <td>Botsford-Boyle</td>\n",
       "      <td>glevens8@microsoft.com</td>\n",
       "      <td>Gerhardt Levens</td>\n",
       "      <td>2020-07-07</td>\n",
       "      <td>2020-11-04</td>\n",
       "      <td>Siana Dakers</td>\n",
       "    </tr>\n",
       "  </tbody>\n",
       "</table>\n",
       "<p>689 rows × 6 columns</p>\n",
       "</div>"
      ],
      "text/plain": [
       "                    company_name                   email   accountant_name  \\\n",
       "0    Larson, Hilpert and Hegmann        cstiller2@ca.gov  Catarina Stiller   \n",
       "1    Larson, Hilpert and Hegmann        cstiller2@ca.gov  Catarina Stiller   \n",
       "2    Larson, Hilpert and Hegmann        cstiller2@ca.gov  Catarina Stiller   \n",
       "3    Larson, Hilpert and Hegmann        cstiller2@ca.gov  Catarina Stiller   \n",
       "4    Larson, Hilpert and Hegmann        cstiller2@ca.gov  Catarina Stiller   \n",
       "..                           ...                     ...               ...   \n",
       "684               Botsford-Boyle  glevens8@microsoft.com   Gerhardt Levens   \n",
       "685               Botsford-Boyle  glevens8@microsoft.com   Gerhardt Levens   \n",
       "686               Botsford-Boyle  glevens8@microsoft.com   Gerhardt Levens   \n",
       "687               Botsford-Boyle  glevens8@microsoft.com   Gerhardt Levens   \n",
       "688               Botsford-Boyle  glevens8@microsoft.com   Gerhardt Levens   \n",
       "\n",
       "    invoice_creation_date invoice_payment_date     customer_name  \n",
       "0              2020-09-15           2020-12-02    Corette Charon  \n",
       "1              2020-07-05           2020-07-24  Ernesto Assinder  \n",
       "2              2020-08-01           2020-09-15   Ardith Bavester  \n",
       "3              2020-11-26           2020-11-05      Neila Scates  \n",
       "4              2020-07-30           2020-10-24      Neila Scates  \n",
       "..                    ...                  ...               ...  \n",
       "684            2020-07-12           2020-07-20       Jan Stocker  \n",
       "685            2020-07-11           2020-08-22   Elyssa Masarrat  \n",
       "686            2020-10-09           2020-12-04     Whit Shadrack  \n",
       "687            2020-10-31           2020-12-04    Rudolfo Jowers  \n",
       "688            2020-07-07           2020-11-04      Siana Dakers  \n",
       "\n",
       "[689 rows x 6 columns]"
      ]
     },
     "execution_count": 2,
     "metadata": {},
     "output_type": "execute_result"
    }
   ],
   "source": [
    "dataset_df = pd.read_csv(r\"../data/dataset.csv\", parse_dates=[\"invoice_creation_date\", \"invoice_payment_date\"])\n",
    "dataset_df"
   ]
  },
  {
   "cell_type": "markdown",
   "metadata": {
    "pycharm": {
     "name": "#%% md\n"
    }
   },
   "source": [
    "## Existe t'il des valeurs manquantes ?"
   ]
  },
  {
   "cell_type": "code",
   "execution_count": 3,
   "metadata": {
    "pycharm": {
     "name": "#%%\n"
    },
    "slideshow": {
     "slide_type": "fragment"
    }
   },
   "outputs": [
    {
     "name": "stdout",
     "output_type": "stream",
     "text": [
      "<class 'pandas.core.frame.DataFrame'>\n",
      "RangeIndex: 689 entries, 0 to 688\n",
      "Data columns (total 6 columns):\n",
      " #   Column                 Non-Null Count  Dtype         \n",
      "---  ------                 --------------  -----         \n",
      " 0   company_name           689 non-null    object        \n",
      " 1   email                  689 non-null    object        \n",
      " 2   accountant_name        689 non-null    object        \n",
      " 3   invoice_creation_date  689 non-null    datetime64[ns]\n",
      " 4   invoice_payment_date   689 non-null    datetime64[ns]\n",
      " 5   customer_name          689 non-null    object        \n",
      "dtypes: datetime64[ns](2), object(4)\n",
      "memory usage: 32.4+ KB\n"
     ]
    }
   ],
   "source": [
    "dataset_df.info()"
   ]
  },
  {
   "cell_type": "markdown",
   "metadata": {
    "pycharm": {
     "name": "#%% md\n"
    }
   },
   "source": [
    "## Si oui, retire les lignes où ces valeurs sont absentes"
   ]
  },
  {
   "cell_type": "code",
   "execution_count": null,
   "metadata": {
    "pycharm": {
     "name": "#%%\n"
    }
   },
   "outputs": [],
   "source": []
  },
  {
   "cell_type": "markdown",
   "metadata": {
    "pycharm": {
     "name": "#%% md\n"
    }
   },
   "source": [
    "# 2. Calcul du délai de reglement"
   ]
  },
  {
   "cell_type": "markdown",
   "metadata": {
    "pycharm": {
     "name": "#%% md\n"
    }
   },
   "source": [
    "## Ajoute une colonne nommée `delai_reglement` au dataframe `dataset` en t'appuyant sur les données déja présentes"
   ]
  },
  {
   "cell_type": "code",
   "execution_count": 4,
   "metadata": {
    "pycharm": {
     "name": "#%%\n"
    }
   },
   "outputs": [
    {
     "data": {
      "text/html": [
       "<div>\n",
       "<style scoped>\n",
       "    .dataframe tbody tr th:only-of-type {\n",
       "        vertical-align: middle;\n",
       "    }\n",
       "\n",
       "    .dataframe tbody tr th {\n",
       "        vertical-align: top;\n",
       "    }\n",
       "\n",
       "    .dataframe thead th {\n",
       "        text-align: right;\n",
       "    }\n",
       "</style>\n",
       "<table border=\"1\" class=\"dataframe\">\n",
       "  <thead>\n",
       "    <tr style=\"text-align: right;\">\n",
       "      <th></th>\n",
       "      <th>company_name</th>\n",
       "      <th>email</th>\n",
       "      <th>accountant_name</th>\n",
       "      <th>invoice_creation_date</th>\n",
       "      <th>invoice_payment_date</th>\n",
       "      <th>customer_name</th>\n",
       "      <th>delai_reglement</th>\n",
       "    </tr>\n",
       "  </thead>\n",
       "  <tbody>\n",
       "    <tr>\n",
       "      <th>0</th>\n",
       "      <td>Larson, Hilpert and Hegmann</td>\n",
       "      <td>cstiller2@ca.gov</td>\n",
       "      <td>Catarina Stiller</td>\n",
       "      <td>2020-09-15</td>\n",
       "      <td>2020-12-02</td>\n",
       "      <td>Corette Charon</td>\n",
       "      <td>78.0</td>\n",
       "    </tr>\n",
       "    <tr>\n",
       "      <th>1</th>\n",
       "      <td>Larson, Hilpert and Hegmann</td>\n",
       "      <td>cstiller2@ca.gov</td>\n",
       "      <td>Catarina Stiller</td>\n",
       "      <td>2020-07-05</td>\n",
       "      <td>2020-07-24</td>\n",
       "      <td>Ernesto Assinder</td>\n",
       "      <td>19.0</td>\n",
       "    </tr>\n",
       "    <tr>\n",
       "      <th>2</th>\n",
       "      <td>Larson, Hilpert and Hegmann</td>\n",
       "      <td>cstiller2@ca.gov</td>\n",
       "      <td>Catarina Stiller</td>\n",
       "      <td>2020-08-01</td>\n",
       "      <td>2020-09-15</td>\n",
       "      <td>Ardith Bavester</td>\n",
       "      <td>45.0</td>\n",
       "    </tr>\n",
       "    <tr>\n",
       "      <th>3</th>\n",
       "      <td>Larson, Hilpert and Hegmann</td>\n",
       "      <td>cstiller2@ca.gov</td>\n",
       "      <td>Catarina Stiller</td>\n",
       "      <td>2020-11-26</td>\n",
       "      <td>2020-11-05</td>\n",
       "      <td>Neila Scates</td>\n",
       "      <td>-21.0</td>\n",
       "    </tr>\n",
       "    <tr>\n",
       "      <th>4</th>\n",
       "      <td>Larson, Hilpert and Hegmann</td>\n",
       "      <td>cstiller2@ca.gov</td>\n",
       "      <td>Catarina Stiller</td>\n",
       "      <td>2020-07-30</td>\n",
       "      <td>2020-10-24</td>\n",
       "      <td>Neila Scates</td>\n",
       "      <td>86.0</td>\n",
       "    </tr>\n",
       "    <tr>\n",
       "      <th>...</th>\n",
       "      <td>...</td>\n",
       "      <td>...</td>\n",
       "      <td>...</td>\n",
       "      <td>...</td>\n",
       "      <td>...</td>\n",
       "      <td>...</td>\n",
       "      <td>...</td>\n",
       "    </tr>\n",
       "    <tr>\n",
       "      <th>684</th>\n",
       "      <td>Botsford-Boyle</td>\n",
       "      <td>glevens8@microsoft.com</td>\n",
       "      <td>Gerhardt Levens</td>\n",
       "      <td>2020-07-12</td>\n",
       "      <td>2020-07-20</td>\n",
       "      <td>Jan Stocker</td>\n",
       "      <td>8.0</td>\n",
       "    </tr>\n",
       "    <tr>\n",
       "      <th>685</th>\n",
       "      <td>Botsford-Boyle</td>\n",
       "      <td>glevens8@microsoft.com</td>\n",
       "      <td>Gerhardt Levens</td>\n",
       "      <td>2020-07-11</td>\n",
       "      <td>2020-08-22</td>\n",
       "      <td>Elyssa Masarrat</td>\n",
       "      <td>42.0</td>\n",
       "    </tr>\n",
       "    <tr>\n",
       "      <th>686</th>\n",
       "      <td>Botsford-Boyle</td>\n",
       "      <td>glevens8@microsoft.com</td>\n",
       "      <td>Gerhardt Levens</td>\n",
       "      <td>2020-10-09</td>\n",
       "      <td>2020-12-04</td>\n",
       "      <td>Whit Shadrack</td>\n",
       "      <td>56.0</td>\n",
       "    </tr>\n",
       "    <tr>\n",
       "      <th>687</th>\n",
       "      <td>Botsford-Boyle</td>\n",
       "      <td>glevens8@microsoft.com</td>\n",
       "      <td>Gerhardt Levens</td>\n",
       "      <td>2020-10-31</td>\n",
       "      <td>2020-12-04</td>\n",
       "      <td>Rudolfo Jowers</td>\n",
       "      <td>34.0</td>\n",
       "    </tr>\n",
       "    <tr>\n",
       "      <th>688</th>\n",
       "      <td>Botsford-Boyle</td>\n",
       "      <td>glevens8@microsoft.com</td>\n",
       "      <td>Gerhardt Levens</td>\n",
       "      <td>2020-07-07</td>\n",
       "      <td>2020-11-04</td>\n",
       "      <td>Siana Dakers</td>\n",
       "      <td>120.0</td>\n",
       "    </tr>\n",
       "  </tbody>\n",
       "</table>\n",
       "<p>689 rows × 7 columns</p>\n",
       "</div>"
      ],
      "text/plain": [
       "                    company_name                   email   accountant_name  \\\n",
       "0    Larson, Hilpert and Hegmann        cstiller2@ca.gov  Catarina Stiller   \n",
       "1    Larson, Hilpert and Hegmann        cstiller2@ca.gov  Catarina Stiller   \n",
       "2    Larson, Hilpert and Hegmann        cstiller2@ca.gov  Catarina Stiller   \n",
       "3    Larson, Hilpert and Hegmann        cstiller2@ca.gov  Catarina Stiller   \n",
       "4    Larson, Hilpert and Hegmann        cstiller2@ca.gov  Catarina Stiller   \n",
       "..                           ...                     ...               ...   \n",
       "684               Botsford-Boyle  glevens8@microsoft.com   Gerhardt Levens   \n",
       "685               Botsford-Boyle  glevens8@microsoft.com   Gerhardt Levens   \n",
       "686               Botsford-Boyle  glevens8@microsoft.com   Gerhardt Levens   \n",
       "687               Botsford-Boyle  glevens8@microsoft.com   Gerhardt Levens   \n",
       "688               Botsford-Boyle  glevens8@microsoft.com   Gerhardt Levens   \n",
       "\n",
       "    invoice_creation_date invoice_payment_date     customer_name  \\\n",
       "0              2020-09-15           2020-12-02    Corette Charon   \n",
       "1              2020-07-05           2020-07-24  Ernesto Assinder   \n",
       "2              2020-08-01           2020-09-15   Ardith Bavester   \n",
       "3              2020-11-26           2020-11-05      Neila Scates   \n",
       "4              2020-07-30           2020-10-24      Neila Scates   \n",
       "..                    ...                  ...               ...   \n",
       "684            2020-07-12           2020-07-20       Jan Stocker   \n",
       "685            2020-07-11           2020-08-22   Elyssa Masarrat   \n",
       "686            2020-10-09           2020-12-04     Whit Shadrack   \n",
       "687            2020-10-31           2020-12-04    Rudolfo Jowers   \n",
       "688            2020-07-07           2020-11-04      Siana Dakers   \n",
       "\n",
       "     delai_reglement  \n",
       "0               78.0  \n",
       "1               19.0  \n",
       "2               45.0  \n",
       "3              -21.0  \n",
       "4               86.0  \n",
       "..               ...  \n",
       "684              8.0  \n",
       "685             42.0  \n",
       "686             56.0  \n",
       "687             34.0  \n",
       "688            120.0  \n",
       "\n",
       "[689 rows x 7 columns]"
      ]
     },
     "execution_count": 4,
     "metadata": {},
     "output_type": "execute_result"
    }
   ],
   "source": [
    "dataset_df[\"delai_reglement\"] = dataset_df[\"invoice_payment_date\"] - dataset_df[\"invoice_creation_date\"]\n",
    "dataset_df[\"delai_reglement\"] = dataset_df[\"delai_reglement\"].astype('timedelta64[D]')\n",
    "\n",
    "dataset_df"
   ]
  },
  {
   "cell_type": "markdown",
   "metadata": {
    "slideshow": {
     "slide_type": "slide"
    }
   },
   "source": [
    "# 3. Statistiques descriptives"
   ]
  },
  {
   "cell_type": "markdown",
   "metadata": {
    "slideshow": {
     "slide_type": "subslide"
    }
   },
   "source": [
    "## Que peux-tu dire sur les délais de règlements ? (tu peux réaliser des graphes pour étayer ton propos)"
   ]
  },
  {
   "cell_type": "markdown",
   "metadata": {},
   "source": [
    "Les délais de reglement suivent une loie normale centré en 0 (la moyenne et le median sont egaux a approximativement 0).\n",
    "\n",
    "Les valeurs vont de -155 a 151, avec un median a -2, ce qui veut dire qu'approximativement la moitié des valeurs sont negatives, ce qui semblent contre intuitif puisque l'on s'attend a ce que la facture soit emise avant d'etre payé. \n",
    "\n",
    "Si les données etaient réelles on pourrait donner des hypotheses pour expliquer ca:\n",
    "    1- Erreur de l'utilisateur lors de la saisie des valeurs (inversion des cases création et paiement de la facture), hypothese un peu improbable puisqu'elle sous entendrait une erreur superieur a 50% du temps.\n",
    "    2- Les clients peuvent peut etre payé l'entreprise avant que la facture soit emise (a discuter avec les experts métiers)."
   ]
  },
  {
   "cell_type": "code",
   "execution_count": 5,
   "metadata": {},
   "outputs": [
    {
     "data": {
      "text/html": [
       "<div>\n",
       "<style scoped>\n",
       "    .dataframe tbody tr th:only-of-type {\n",
       "        vertical-align: middle;\n",
       "    }\n",
       "\n",
       "    .dataframe tbody tr th {\n",
       "        vertical-align: top;\n",
       "    }\n",
       "\n",
       "    .dataframe thead th {\n",
       "        text-align: right;\n",
       "    }\n",
       "</style>\n",
       "<table border=\"1\" class=\"dataframe\">\n",
       "  <thead>\n",
       "    <tr style=\"text-align: right;\">\n",
       "      <th></th>\n",
       "      <th>delai_reglement</th>\n",
       "    </tr>\n",
       "  </thead>\n",
       "  <tbody>\n",
       "    <tr>\n",
       "      <th>count</th>\n",
       "      <td>689.000000</td>\n",
       "    </tr>\n",
       "    <tr>\n",
       "      <th>mean</th>\n",
       "      <td>-2.574746</td>\n",
       "    </tr>\n",
       "    <tr>\n",
       "      <th>std</th>\n",
       "      <td>64.537987</td>\n",
       "    </tr>\n",
       "    <tr>\n",
       "      <th>min</th>\n",
       "      <td>-155.000000</td>\n",
       "    </tr>\n",
       "    <tr>\n",
       "      <th>25%</th>\n",
       "      <td>-51.000000</td>\n",
       "    </tr>\n",
       "    <tr>\n",
       "      <th>50%</th>\n",
       "      <td>-2.000000</td>\n",
       "    </tr>\n",
       "    <tr>\n",
       "      <th>75%</th>\n",
       "      <td>42.000000</td>\n",
       "    </tr>\n",
       "    <tr>\n",
       "      <th>max</th>\n",
       "      <td>151.000000</td>\n",
       "    </tr>\n",
       "  </tbody>\n",
       "</table>\n",
       "</div>"
      ],
      "text/plain": [
       "       delai_reglement\n",
       "count       689.000000\n",
       "mean         -2.574746\n",
       "std          64.537987\n",
       "min        -155.000000\n",
       "25%         -51.000000\n",
       "50%          -2.000000\n",
       "75%          42.000000\n",
       "max         151.000000"
      ]
     },
     "execution_count": 5,
     "metadata": {},
     "output_type": "execute_result"
    }
   ],
   "source": [
    "dataset_df.describe()"
   ]
  },
  {
   "cell_type": "code",
   "execution_count": 6,
   "metadata": {
    "pycharm": {
     "name": "#%%\n"
    },
    "slideshow": {
     "slide_type": "fragment"
    }
   },
   "outputs": [
    {
     "data": {
      "image/png": "[encoded data removed]",
      "text/plain": [
       "<Figure size 1080x576 with 2 Axes>"
      ]
     },
     "metadata": {
      "needs_background": "light"
     },
     "output_type": "display_data"
    }
   ],
   "source": [
    "plt.figure(figsize = (15,8))\n",
    "\n",
    "ax = dataset_df[\"delai_reglement\"].hist(bins=100)\n",
    "dataset_df[\"delai_reglement\"].plot(kind='kde', ax=ax, secondary_y=True)\n",
    "\n",
    "ax.set(xlabel=\"Délai de règlement des factures émises par les entreprises\")\n",
    "ax.set(ylabel=\"Nombres d'occurences\");"
   ]
  },
  {
   "cell_type": "markdown",
   "metadata": {
    "slideshow": {
     "slide_type": "slide"
    }
   },
   "source": [
    "# 4. Correction des délais de règlements, si négatif alors mise à 0 par défaut"
   ]
  },
  {
   "cell_type": "markdown",
   "metadata": {
    "pycharm": {
     "name": "#%% md\n"
    }
   },
   "source": [
    "## Corrige la colonne `delai_reglement` pour que la valeur soit égale à 0 si les délais sont négatifs"
   ]
  },
  {
   "cell_type": "code",
   "execution_count": 7,
   "metadata": {
    "pycharm": {
     "name": "#%%\n"
    },
    "slideshow": {
     "slide_type": "fragment"
    }
   },
   "outputs": [
    {
     "data": {
      "text/html": [
       "<div>\n",
       "<style scoped>\n",
       "    .dataframe tbody tr th:only-of-type {\n",
       "        vertical-align: middle;\n",
       "    }\n",
       "\n",
       "    .dataframe tbody tr th {\n",
       "        vertical-align: top;\n",
       "    }\n",
       "\n",
       "    .dataframe thead th {\n",
       "        text-align: right;\n",
       "    }\n",
       "</style>\n",
       "<table border=\"1\" class=\"dataframe\">\n",
       "  <thead>\n",
       "    <tr style=\"text-align: right;\">\n",
       "      <th></th>\n",
       "      <th>company_name</th>\n",
       "      <th>email</th>\n",
       "      <th>accountant_name</th>\n",
       "      <th>invoice_creation_date</th>\n",
       "      <th>invoice_payment_date</th>\n",
       "      <th>customer_name</th>\n",
       "      <th>delai_reglement</th>\n",
       "    </tr>\n",
       "  </thead>\n",
       "  <tbody>\n",
       "    <tr>\n",
       "      <th>0</th>\n",
       "      <td>Larson, Hilpert and Hegmann</td>\n",
       "      <td>cstiller2@ca.gov</td>\n",
       "      <td>Catarina Stiller</td>\n",
       "      <td>2020-09-15</td>\n",
       "      <td>2020-12-02</td>\n",
       "      <td>Corette Charon</td>\n",
       "      <td>78.0</td>\n",
       "    </tr>\n",
       "    <tr>\n",
       "      <th>1</th>\n",
       "      <td>Larson, Hilpert and Hegmann</td>\n",
       "      <td>cstiller2@ca.gov</td>\n",
       "      <td>Catarina Stiller</td>\n",
       "      <td>2020-07-05</td>\n",
       "      <td>2020-07-24</td>\n",
       "      <td>Ernesto Assinder</td>\n",
       "      <td>19.0</td>\n",
       "    </tr>\n",
       "    <tr>\n",
       "      <th>2</th>\n",
       "      <td>Larson, Hilpert and Hegmann</td>\n",
       "      <td>cstiller2@ca.gov</td>\n",
       "      <td>Catarina Stiller</td>\n",
       "      <td>2020-08-01</td>\n",
       "      <td>2020-09-15</td>\n",
       "      <td>Ardith Bavester</td>\n",
       "      <td>45.0</td>\n",
       "    </tr>\n",
       "    <tr>\n",
       "      <th>3</th>\n",
       "      <td>Larson, Hilpert and Hegmann</td>\n",
       "      <td>cstiller2@ca.gov</td>\n",
       "      <td>Catarina Stiller</td>\n",
       "      <td>2020-11-26</td>\n",
       "      <td>2020-11-05</td>\n",
       "      <td>Neila Scates</td>\n",
       "      <td>0.0</td>\n",
       "    </tr>\n",
       "    <tr>\n",
       "      <th>4</th>\n",
       "      <td>Larson, Hilpert and Hegmann</td>\n",
       "      <td>cstiller2@ca.gov</td>\n",
       "      <td>Catarina Stiller</td>\n",
       "      <td>2020-07-30</td>\n",
       "      <td>2020-10-24</td>\n",
       "      <td>Neila Scates</td>\n",
       "      <td>86.0</td>\n",
       "    </tr>\n",
       "    <tr>\n",
       "      <th>...</th>\n",
       "      <td>...</td>\n",
       "      <td>...</td>\n",
       "      <td>...</td>\n",
       "      <td>...</td>\n",
       "      <td>...</td>\n",
       "      <td>...</td>\n",
       "      <td>...</td>\n",
       "    </tr>\n",
       "    <tr>\n",
       "      <th>684</th>\n",
       "      <td>Botsford-Boyle</td>\n",
       "      <td>glevens8@microsoft.com</td>\n",
       "      <td>Gerhardt Levens</td>\n",
       "      <td>2020-07-12</td>\n",
       "      <td>2020-07-20</td>\n",
       "      <td>Jan Stocker</td>\n",
       "      <td>8.0</td>\n",
       "    </tr>\n",
       "    <tr>\n",
       "      <th>685</th>\n",
       "      <td>Botsford-Boyle</td>\n",
       "      <td>glevens8@microsoft.com</td>\n",
       "      <td>Gerhardt Levens</td>\n",
       "      <td>2020-07-11</td>\n",
       "      <td>2020-08-22</td>\n",
       "      <td>Elyssa Masarrat</td>\n",
       "      <td>42.0</td>\n",
       "    </tr>\n",
       "    <tr>\n",
       "      <th>686</th>\n",
       "      <td>Botsford-Boyle</td>\n",
       "      <td>glevens8@microsoft.com</td>\n",
       "      <td>Gerhardt Levens</td>\n",
       "      <td>2020-10-09</td>\n",
       "      <td>2020-12-04</td>\n",
       "      <td>Whit Shadrack</td>\n",
       "      <td>56.0</td>\n",
       "    </tr>\n",
       "    <tr>\n",
       "      <th>687</th>\n",
       "      <td>Botsford-Boyle</td>\n",
       "      <td>glevens8@microsoft.com</td>\n",
       "      <td>Gerhardt Levens</td>\n",
       "      <td>2020-10-31</td>\n",
       "      <td>2020-12-04</td>\n",
       "      <td>Rudolfo Jowers</td>\n",
       "      <td>34.0</td>\n",
       "    </tr>\n",
       "    <tr>\n",
       "      <th>688</th>\n",
       "      <td>Botsford-Boyle</td>\n",
       "      <td>glevens8@microsoft.com</td>\n",
       "      <td>Gerhardt Levens</td>\n",
       "      <td>2020-07-07</td>\n",
       "      <td>2020-11-04</td>\n",
       "      <td>Siana Dakers</td>\n",
       "      <td>120.0</td>\n",
       "    </tr>\n",
       "  </tbody>\n",
       "</table>\n",
       "<p>689 rows × 7 columns</p>\n",
       "</div>"
      ],
      "text/plain": [
       "                    company_name                   email   accountant_name  \\\n",
       "0    Larson, Hilpert and Hegmann        cstiller2@ca.gov  Catarina Stiller   \n",
       "1    Larson, Hilpert and Hegmann        cstiller2@ca.gov  Catarina Stiller   \n",
       "2    Larson, Hilpert and Hegmann        cstiller2@ca.gov  Catarina Stiller   \n",
       "3    Larson, Hilpert and Hegmann        cstiller2@ca.gov  Catarina Stiller   \n",
       "4    Larson, Hilpert and Hegmann        cstiller2@ca.gov  Catarina Stiller   \n",
       "..                           ...                     ...               ...   \n",
       "684               Botsford-Boyle  glevens8@microsoft.com   Gerhardt Levens   \n",
       "685               Botsford-Boyle  glevens8@microsoft.com   Gerhardt Levens   \n",
       "686               Botsford-Boyle  glevens8@microsoft.com   Gerhardt Levens   \n",
       "687               Botsford-Boyle  glevens8@microsoft.com   Gerhardt Levens   \n",
       "688               Botsford-Boyle  glevens8@microsoft.com   Gerhardt Levens   \n",
       "\n",
       "    invoice_creation_date invoice_payment_date     customer_name  \\\n",
       "0              2020-09-15           2020-12-02    Corette Charon   \n",
       "1              2020-07-05           2020-07-24  Ernesto Assinder   \n",
       "2              2020-08-01           2020-09-15   Ardith Bavester   \n",
       "3              2020-11-26           2020-11-05      Neila Scates   \n",
       "4              2020-07-30           2020-10-24      Neila Scates   \n",
       "..                    ...                  ...               ...   \n",
       "684            2020-07-12           2020-07-20       Jan Stocker   \n",
       "685            2020-07-11           2020-08-22   Elyssa Masarrat   \n",
       "686            2020-10-09           2020-12-04     Whit Shadrack   \n",
       "687            2020-10-31           2020-12-04    Rudolfo Jowers   \n",
       "688            2020-07-07           2020-11-04      Siana Dakers   \n",
       "\n",
       "     delai_reglement  \n",
       "0               78.0  \n",
       "1               19.0  \n",
       "2               45.0  \n",
       "3                0.0  \n",
       "4               86.0  \n",
       "..               ...  \n",
       "684              8.0  \n",
       "685             42.0  \n",
       "686             56.0  \n",
       "687             34.0  \n",
       "688            120.0  \n",
       "\n",
       "[689 rows x 7 columns]"
      ]
     },
     "execution_count": 7,
     "metadata": {},
     "output_type": "execute_result"
    }
   ],
   "source": [
    "dataset_df.loc[dataset_df[\"delai_reglement\"] < 0, \"delai_reglement\"] = 0\n",
    "dataset_df"
   ]
  },
  {
   "cell_type": "markdown",
   "metadata": {
    "slideshow": {
     "slide_type": "slide"
    }
   },
   "source": [
    "# 5. Analyse des délais de règlements"
   ]
  },
  {
   "cell_type": "markdown",
   "metadata": {
    "pycharm": {
     "name": "#%% md\n"
    }
   },
   "source": [
    "## Propose une ou plusieurs visualisation permettant d'apporter des informations pertinentes sur les délais de paiement"
   ]
  },
  {
   "cell_type": "markdown",
   "metadata": {},
   "source": [
    "Les délaies de paiement sont payés majoritairement dans les 60 premiers jours apres l'emission de la facture (durée maximal légal avant d'avoir des pénalités de retard) et diminue avec le temps.\n",
    "\n",
    "Si on analyse les données au niveau de la moyenne pour chaques clients, on remarque que certains clients paient toujours rapidement tandis que d'autres sont bcp plus frequemment en retard. La repartitions des clients suit elle aussi une distribution normal (centré approximativement vers 30 jours)."
   ]
  },
  {
   "cell_type": "code",
   "execution_count": 8,
   "metadata": {},
   "outputs": [
    {
     "data": {
      "image/png": "[encoded data removed]",
      "text/plain": [
       "<Figure size 1080x576 with 2 Axes>"
      ]
     },
     "metadata": {
      "needs_background": "light"
     },
     "output_type": "display_data"
    }
   ],
   "source": [
    "plt.figure(figsize = (15,8))\n",
    "\n",
    "df = dataset_df[dataset_df[\"delai_reglement\"] > 0][\"delai_reglement\"]\n",
    "ax = df.hist(bins=150)\n",
    "df.plot(kind='kde', ax=ax, secondary_y=True)\n",
    "\n",
    "ax.set(xlabel=\"Délai de règlement des factures émises par les entreprises\")\n",
    "ax.set(ylabel=\"Nombres d'occurences\");"
   ]
  },
  {
   "cell_type": "code",
   "execution_count": 9,
   "metadata": {},
   "outputs": [
    {
     "data": {
      "image/png": "[encoded data removed]",
      "text/plain": [
       "<Figure size 1080x576 with 2 Axes>"
      ]
     },
     "metadata": {
      "needs_background": "light"
     },
     "output_type": "display_data"
    }
   ],
   "source": [
    "plt.figure(figsize = (15,8))\n",
    "\n",
    "df = dataset_df.groupby('customer_name')[\"delai_reglement\"].mean()\n",
    "ax = df.plot(kind='hist')\n",
    "df.plot(kind='kde', ax=ax, secondary_y=True)\n",
    "\n",
    "ax.set(xlabel=\"Délai de règlement des factures émises par les entreprises\")\n",
    "ax.set(ylabel=\"Nombres d'occurences\")\n",
    "\n",
    "plt.title(\"Délai de reglement moyen par entreprise\");"
   ]
  },
  {
   "cell_type": "markdown",
   "metadata": {
    "slideshow": {
     "slide_type": "subslide"
    }
   },
   "source": [
    "# 6. Tendances"
   ]
  },
  {
   "cell_type": "markdown",
   "metadata": {
    "pycharm": {
     "name": "#%% md\n"
    }
   },
   "source": [
    "# Propose visualisation affichant l'évolution mensuelle du délai de règlement moyen des factures émises par l'entreprise: `Larson, Hilpert and Hegmann`"
   ]
  },
  {
   "cell_type": "code",
   "execution_count": 10,
   "metadata": {
    "pycharm": {
     "name": "#%%\n"
    }
   },
   "outputs": [
    {
     "data": {
      "image/png": "[encoded data removed]",
      "text/plain": [
       "<Figure size 1080x576 with 2 Axes>"
      ]
     },
     "metadata": {
      "needs_background": "light"
     },
     "output_type": "display_data"
    }
   ],
   "source": [
    "df = dataset_df.loc[dataset_df[\"company_name\"] == \"Larson, Hilpert and Hegmann\"]\n",
    "\n",
    "count_df = df.groupby(df[\"invoice_creation_date\"].dt.to_period(\"M\"))[\"delai_reglement\"].agg(\n",
    "    {(\"en delai\", lambda x: len(x[x<60])), (\"hors delai\", \"count\")})\n",
    "count_df = count_df.reset_index()\n",
    "\n",
    "df3 = df.groupby(df[\"invoice_creation_date\"].dt.to_period(\"M\"))[\"delai_reglement\"].agg(\"mean\")\n",
    "df3 = df3.reset_index()\n",
    "\n",
    "plt.figure(figsize = (15,8))\n",
    "\n",
    "ax = sns.barplot(\n",
    "    x=\"invoice_creation_date\", y=\"hors delai\", data=count_df, color='red', saturation=0.4, label=\"hors delai\")\n",
    "sns.barplot(x=\"invoice_creation_date\", y=\"en delai\", data=count_df, color='blue', saturation=0.4, label=\"Positive\")\n",
    "ax.set(ylabel='Nombre de facture payé (rouge + 60 jours)')\n",
    "ax2 = plt.twinx()\n",
    "ax2.set(ylabel='Délai de règlement moyen des factures émises')\n",
    "\n",
    "sns.lineplot(data=df3.delai_reglement, linewidth = 3, marker=\"o\", ax=ax2);"
   ]
  },
  {
   "cell_type": "markdown",
   "metadata": {
    "pycharm": {
     "name": "#%% md\n"
    }
   },
   "source": [
    "# Propose visualisation affichant l'évolution mensuelle du délai de règlement moyen des factures émises par les entreprises suivies par l'expert comptable: `nborrington0@hubpages.com`"
   ]
  },
  {
   "cell_type": "code",
   "execution_count": 11,
   "metadata": {
    "pycharm": {
     "name": "#%%\n"
    }
   },
   "outputs": [
    {
     "data": {
      "image/png": "[encoded data removed]",
      "text/plain": [
       "<Figure size 1080x576 with 2 Axes>"
      ]
     },
     "metadata": {
      "needs_background": "light"
     },
     "output_type": "display_data"
    }
   ],
   "source": [
    "df = dataset_df.loc[dataset_df[\"email\"] == \"nborrington0@hubpages.com\"]\n",
    "\n",
    "count_df = df.groupby(df[\"invoice_creation_date\"].dt.to_period(\"M\"))[\"delai_reglement\"].agg(\n",
    "    {(\"en delai\", lambda x: len(x[x<60])), (\"hors delai\", \"count\")})\n",
    "count_df = count_df.reset_index()\n",
    "\n",
    "df3 = df.groupby(df[\"invoice_creation_date\"].dt.to_period(\"M\"))[\"delai_reglement\"].agg(\"mean\")\n",
    "df3 = df3.reset_index()\n",
    "\n",
    "plt.figure(figsize = (15,8))\n",
    "\n",
    "ax = sns.barplot(\n",
    "    x=\"invoice_creation_date\", y=\"hors delai\", data=count_df, color='red', saturation=0.4, label=\"hors delai\")\n",
    "sns.barplot(x=\"invoice_creation_date\", y=\"en delai\", data=count_df, color='blue', saturation=0.4, label=\"Positive\")\n",
    "ax.set(ylabel='Nombre de facture payé (rouge + 60 jours)')\n",
    "ax2 = plt.twinx()\n",
    "ax2.set(ylabel='Délai de règlement moyen des factures émises')\n",
    "\n",
    "for (method, group) in df.groupby(\"company_name\"):\n",
    "    df_invoice = group.groupby(df[\"invoice_creation_date\"].dt.to_period(\"M\"))[\"delai_reglement\"].mean()\n",
    "    df_invoice = df_invoice.reset_index()\n",
    "    sns.lineplot(data=df_invoice.delai_reglement, linewidth = 3, marker=\"o\", ax=ax2, label=method);"
   ]
  },
  {
   "cell_type": "markdown",
   "metadata": {
    "pycharm": {
     "name": "#%% md\n"
    }
   },
   "source": [
    "# Propose visualisation affichant l'évolution mensuelle du délai de règlement moyen des factures émises par les entreprises suivies dans RCA"
   ]
  },
  {
   "cell_type": "code",
   "execution_count": 13,
   "metadata": {
    "pycharm": {
     "name": "#%%\n"
    }
   },
   "outputs": [],
   "source": [
    "df2 = dataset_df.groupby(dataset_df[\"invoice_creation_date\"].dt.to_period(\"M\"))[\"delai_reglement\"].agg(\n",
    "    {(\"en delai\", lambda x: len(x[x<60])), (\"hors delai\", \"count\")})\n",
    "df2 = df2.reset_index()\n",
    "\n",
    "df3 = dataset_df.groupby(dataset_df[\"invoice_creation_date\"].dt.to_period(\"M\"))[\"delai_reglement\"].agg(\"mean\")\n",
    "df3 = df3.reset_index()"
   ]
  },
  {
   "cell_type": "code",
   "execution_count": 14,
   "metadata": {},
   "outputs": [
    {
     "data": {
      "image/png": "[encoded data removed]",
      "text/plain": [
       "<Figure size 1080x576 with 2 Axes>"
      ]
     },
     "metadata": {
      "needs_background": "light"
     },
     "output_type": "display_data"
    }
   ],
   "source": [
    "plt.figure(figsize = (15,8))\n",
    "\n",
    "ax = sns.barplot(x=\"invoice_creation_date\", y=\"hors delai\", data=df2, color='red', saturation=0.4, label=\"hors delai\")\n",
    "sns.barplot(x=\"invoice_creation_date\", y=\"en delai\", data=df2, color='blue', saturation=0.4, label=\"Positive\")\n",
    "ax.set(ylabel='Nombre de facture payé (rouge + 60 jours)')\n",
    "ax2 = plt.twinx()\n",
    "ax2.set(ylabel='Délai de règlement moyen des factures émises')\n",
    "\n",
    "sns.lineplot(data=df3.delai_reglement, linewidth = 3, marker=\"o\", ax=ax2);"
   ]
  },
  {
   "cell_type": "markdown",
   "metadata": {
    "pycharm": {
     "name": "#%% md\n"
    }
   },
   "source": [
    "# 7. Enregistre ton notebook !\n"
   ]
  }
 ],
 "metadata": {
  "celltoolbar": "Diaporama",
  "kernelspec": {
   "display_name": "Python 3 (ipykernel)",
   "language": "python",
   "name": "python3"
  },
  "language_info": {
   "codemirror_mode": {
    "name": "ipython",
    "version": 3
   },
   "file_extension": ".py",
   "mimetype": "text/x-python",
   "name": "python",
   "nbconvert_exporter": "python",
   "pygments_lexer": "ipython3",
   "version": "3.10.0"
  },
  "toc": {
   "base_numbering": 1,
   "nav_menu": {
    "height": "374px",
    "width": "242px"
   },
   "number_sections": false,
   "sideBar": true,
   "skip_h1_title": false,
   "title_cell": "Table of Contents",
   "title_sidebar": "Contents",
   "toc_cell": false,
   "toc_position": {},
   "toc_section_display": true,
   "toc_window_display": true
  }
 },
 "nbformat": 4,
 "nbformat_minor": 1
}
